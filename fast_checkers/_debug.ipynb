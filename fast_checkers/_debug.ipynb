{
 "cells": [
  {
   "cell_type": "code",
   "execution_count": 7,
   "metadata": {},
   "outputs": [],
   "source": [
    "from fast_checkers.base_board import BaseBoard, Move, Square\n",
    "import numpy as np"
   ]
  },
  {
   "cell_type": "code",
   "execution_count": 15,
   "metadata": {},
   "outputs": [
    {
     "name": "stderr",
     "output_type": "stream",
     "text": [
      "\u001b[32;20mBoard initialized with shape (8, 8). (base_board.py:40)\u001b[0m\n"
     ]
    }
   ],
   "source": [
    "b = BaseBoard()\n",
    "m = Move(square_list=[Square(22).index, Square(17).index])\n",
    "m1 = Move(square_list=[Square(22).index, Square(17).index])\n",
    "m2 = Move(square_list=[Square(9).index, Square(13).index])\n",
    "m3 = Move(square_list=[Square(24).index, Square(20).index])\n",
    "moves= np.random.choice([m1,m2,m3], 1)\n"
   ]
  },
  {
   "cell_type": "code",
   "execution_count": 19,
   "metadata": {},
   "outputs": [
    {
     "name": "stdout",
     "output_type": "stream",
     "text": [
      "1.65 µs ± 139 ns per loop (mean ± std. dev. of 7 runs, 1,000,000 loops each)\n",
      "3.95 µs ± 428 ns per loop (mean ± std. dev. of 7 runs, 100,000 loops each)\n"
     ]
    }
   ],
   "source": [
    "def push():\n",
    "    b.push(m)\n",
    "def pop():\n",
    "    b.push(m)\n",
    "    b.pop()\n",
    "%timeit push()\n",
    "%timeit pop()"
   ]
  },
  {
   "cell_type": "code",
   "execution_count": 22,
   "metadata": {},
   "outputs": [
    {
     "name": "stdout",
     "output_type": "stream",
     "text": [
      "Pushes per second: 606060.6\n",
      "Pops per second: 434782.6\n"
     ]
    }
   ],
   "source": [
    "push_time = 1.65*1e-6\n",
    "pop_time = 3.95*1e-6 - push_time\n",
    "pushes_per_second = 1 / push_time\n",
    "pops_per_second = 1 / pop_time\n",
    "\n",
    "print(f\"Pushes per second: {pushes_per_second:.1f}\")\n",
    "print(f\"Pops per second: {pops_per_second:.1f}\")"
   ]
  }
 ],
 "metadata": {
  "kernelspec": {
   "display_name": "Python 3",
   "language": "python",
   "name": "python3"
  },
  "language_info": {
   "codemirror_mode": {
    "name": "ipython",
    "version": 3
   },
   "file_extension": ".py",
   "mimetype": "text/x-python",
   "name": "python",
   "nbconvert_exporter": "python",
   "pygments_lexer": "ipython3",
   "version": "3.10.5"
  },
  "orig_nbformat": 4
 },
 "nbformat": 4,
 "nbformat_minor": 2
}
